{
 "cells": [
  {
   "cell_type": "code",
   "execution_count": 1,
   "id": "f1c502d5-2bc9-42ef-8228-a2ac3aa8034f",
   "metadata": {},
   "outputs": [],
   "source": [
    "#import libraries\n",
    "import pandas as pd\n",
    "import numpy as np\n",
    "import streamlit as st"
   ]
  },
  {
   "cell_type": "code",
   "execution_count": 2,
   "id": "31ac8fd3-0d96-4353-ab46-3d47f06237c5",
   "metadata": {},
   "outputs": [],
   "source": [
    "#read in data\n",
    "df = pd.read_csv('./data/cars.csv',index_col=0)"
   ]
  },
  {
   "cell_type": "code",
   "execution_count": 3,
   "id": "00e88d7e-2cdd-4a3c-b18a-100fe7b31bcd",
   "metadata": {},
   "outputs": [
    {
     "data": {
      "text/html": [
       "<div>\n",
       "<style scoped>\n",
       "    .dataframe tbody tr th:only-of-type {\n",
       "        vertical-align: middle;\n",
       "    }\n",
       "\n",
       "    .dataframe tbody tr th {\n",
       "        vertical-align: top;\n",
       "    }\n",
       "\n",
       "    .dataframe thead th {\n",
       "        text-align: right;\n",
       "    }\n",
       "</style>\n",
       "<table border=\"1\" class=\"dataframe\">\n",
       "  <thead>\n",
       "    <tr style=\"text-align: right;\">\n",
       "      <th></th>\n",
       "      <th>Foreign/Local Used</th>\n",
       "      <th>color</th>\n",
       "      <th>wheel drive</th>\n",
       "      <th>Automation</th>\n",
       "      <th>seat-make</th>\n",
       "      <th>price</th>\n",
       "      <th>description</th>\n",
       "      <th>make-year</th>\n",
       "      <th>manufacturer</th>\n",
       "    </tr>\n",
       "  </thead>\n",
       "  <tbody>\n",
       "    <tr>\n",
       "      <th>0</th>\n",
       "      <td>Foreign Used</td>\n",
       "      <td>Black</td>\n",
       "      <td>4</td>\n",
       "      <td>Automatic</td>\n",
       "      <td>Leather</td>\n",
       "      <td>17500000</td>\n",
       "      <td>2014   Lexus LX</td>\n",
       "      <td>2014</td>\n",
       "      <td>Lexus</td>\n",
       "    </tr>\n",
       "    <tr>\n",
       "      <th>1</th>\n",
       "      <td>Foreign Used</td>\n",
       "      <td>Black</td>\n",
       "      <td>4</td>\n",
       "      <td>Automatic</td>\n",
       "      <td>Leather</td>\n",
       "      <td>13000000</td>\n",
       "      <td>2012   Toyota Sequoia</td>\n",
       "      <td>2012</td>\n",
       "      <td>Toyota</td>\n",
       "    </tr>\n",
       "    <tr>\n",
       "      <th>2</th>\n",
       "      <td>Foreign Used</td>\n",
       "      <td>Blue</td>\n",
       "      <td>4</td>\n",
       "      <td>Automatic</td>\n",
       "      <td>Cloth</td>\n",
       "      <td>6500000</td>\n",
       "      <td>2007   Toyota FJ CRUISER</td>\n",
       "      <td>2007</td>\n",
       "      <td>Toyota</td>\n",
       "    </tr>\n",
       "    <tr>\n",
       "      <th>3</th>\n",
       "      <td>Foreign Used</td>\n",
       "      <td>Black</td>\n",
       "      <td>4</td>\n",
       "      <td>Automatic</td>\n",
       "      <td>Leather</td>\n",
       "      <td>4700000</td>\n",
       "      <td>2005   Lexus GX</td>\n",
       "      <td>2005</td>\n",
       "      <td>Lexus</td>\n",
       "    </tr>\n",
       "    <tr>\n",
       "      <th>4</th>\n",
       "      <td>Foreign Used</td>\n",
       "      <td>Grey</td>\n",
       "      <td>4</td>\n",
       "      <td>Automatic</td>\n",
       "      <td>Leather</td>\n",
       "      <td>3800000</td>\n",
       "      <td>2005   Toyota 4-Runner</td>\n",
       "      <td>2008</td>\n",
       "      <td>Toyota</td>\n",
       "    </tr>\n",
       "  </tbody>\n",
       "</table>\n",
       "</div>"
      ],
      "text/plain": [
       "  Foreign/Local Used  color  wheel drive Automation seat-make     price  \\\n",
       "0       Foreign Used  Black            4  Automatic   Leather  17500000   \n",
       "1       Foreign Used  Black            4  Automatic   Leather  13000000   \n",
       "2       Foreign Used   Blue            4  Automatic     Cloth   6500000   \n",
       "3       Foreign Used  Black            4  Automatic   Leather   4700000   \n",
       "4       Foreign Used   Grey            4  Automatic   Leather   3800000   \n",
       "\n",
       "                description  make-year manufacturer  \n",
       "0           2014   Lexus LX       2014        Lexus  \n",
       "1     2012   Toyota Sequoia       2012       Toyota  \n",
       "2  2007   Toyota FJ CRUISER       2007       Toyota  \n",
       "3           2005   Lexus GX       2005        Lexus  \n",
       "4    2005   Toyota 4-Runner       2008       Toyota  "
      ]
     },
     "execution_count": 3,
     "metadata": {},
     "output_type": "execute_result"
    }
   ],
   "source": [
    "df.head()"
   ]
  },
  {
   "cell_type": "code",
   "execution_count": 4,
   "id": "e00893a1-87f4-4a83-88e0-dd6366a9f96d",
   "metadata": {},
   "outputs": [
    {
     "data": {
      "text/plain": [
       "array(['Foreign Used', 'Locally Used'], dtype=object)"
      ]
     },
     "execution_count": 4,
     "metadata": {},
     "output_type": "execute_result"
    }
   ],
   "source": [
    "df['Foreign/Local Used'].unique()"
   ]
  },
  {
   "cell_type": "code",
   "execution_count": null,
   "id": "0434e164-80e7-4d67-b2e9-b00852aba17a",
   "metadata": {},
   "outputs": [],
   "source": []
  }
 ],
 "metadata": {
  "kernelspec": {
   "display_name": "Python 3 (ipykernel)",
   "language": "python",
   "name": "python3"
  },
  "language_info": {
   "codemirror_mode": {
    "name": "ipython",
    "version": 3
   },
   "file_extension": ".py",
   "mimetype": "text/x-python",
   "name": "python",
   "nbconvert_exporter": "python",
   "pygments_lexer": "ipython3",
   "version": "3.7.16"
  }
 },
 "nbformat": 4,
 "nbformat_minor": 5
}
